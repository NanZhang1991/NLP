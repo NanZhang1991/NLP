{
 "cells": [
  {
   "cell_type": "code",
   "execution_count": 1,
   "source": [
    "import os"
   ],
   "outputs": [],
   "metadata": {}
  },
  {
   "cell_type": "code",
   "execution_count": 5,
   "source": [
    "os.path.splitext('ABCDFR.pdf')"
   ],
   "outputs": [
    {
     "output_type": "execute_result",
     "data": {
      "text/plain": [
       "('ABCDFR', '.pdf')"
      ]
     },
     "metadata": {},
     "execution_count": 5
    }
   ],
   "metadata": {}
  },
  {
   "cell_type": "code",
   "execution_count": 40,
   "source": [
    "import fitz\n",
    "\n",
    "def conver_img(pdf_dir, outDir):\n",
    "    for pdf in pdf_dir:\n",
    "        doc = fitz.open(pdf)\n",
    "        pdf_name = os.path.basename(pdf).rsplit('.',1)[0]\n",
    "        for pg in range(doc.pageCount):\n",
    "            page = doc[pg]\n",
    "            rotate = int(0)\n",
    "            # 每个尺寸的缩放系数为2，这将为我们生成分辨率提高四倍的图像。\n",
    "            zoom_x = 2.0\n",
    "            zoom_y = 2.0\n",
    "            trans = fitz.Matrix(zoom_x, zoom_y).preRotate(rotate)\n",
    "            pm = page.getPixmap(matrix=trans, alpha=False)\n",
    "            pm.writePNG(os.path.join(outDir,pdf_name+'.png'))"
   ],
   "outputs": [],
   "metadata": {}
  },
  {
   "cell_type": "code",
   "execution_count": 34,
   "source": [
    "os.path.basename('1983.01-03（延安工务段）/19830326-2448-02.pdf').rsplit('.',1)[0]"
   ],
   "outputs": [
    {
     "output_type": "execute_result",
     "data": {
      "text/plain": [
       "'19830326-2448-02'"
      ]
     },
     "metadata": {},
     "execution_count": 34
    }
   ],
   "metadata": {}
  },
  {
   "cell_type": "code",
   "execution_count": 41,
   "source": [
    "def get_pdf_paths(dir_path):\n",
    "    pdf_dir=[]\n",
    "    docunames = os.listdir(dir_path)\n",
    "    for docuname in docunames:\n",
    "        if os.path.splitext(docuname)[1] == '.pdf':#目录下包含.pdf的文件\n",
    "            pdf_dir.append(os.path.join(dir_path,docuname))\n",
    "    return pdf_dir"
   ],
   "outputs": [],
   "metadata": {}
  },
  {
   "cell_type": "code",
   "execution_count": 52,
   "source": [
    "dir_path = 'data/input/1983.01-03（延安工务段）'\n",
    "outDir = 'data/output/1983.01-03（延安工务段）'\n",
    "pdf_dir = get_pdf_paths(dir_path)\n",
    "conver_img(pdf_dir, outDir)\n",
    "conver_img(pdf_dir)"
   ],
   "outputs": [
    {
     "output_type": "error",
     "ename": "TypeError",
     "evalue": "conver_img() missing 1 required positional argument: 'outDir'",
     "traceback": [
      "\u001b[0;31m---------------------------------------------------------------------------\u001b[0m",
      "\u001b[0;31mTypeError\u001b[0m                                 Traceback (most recent call last)",
      "\u001b[0;32m<ipython-input-52-23ad452703d8>\u001b[0m in \u001b[0;36m<module>\u001b[0;34m\u001b[0m\n\u001b[1;32m      3\u001b[0m \u001b[0mpdf_dir\u001b[0m \u001b[0;34m=\u001b[0m \u001b[0mget_pdf_paths\u001b[0m\u001b[0;34m(\u001b[0m\u001b[0mdir_path\u001b[0m\u001b[0;34m)\u001b[0m\u001b[0;34m\u001b[0m\u001b[0;34m\u001b[0m\u001b[0m\n\u001b[1;32m      4\u001b[0m \u001b[0mconver_img\u001b[0m\u001b[0;34m(\u001b[0m\u001b[0mpdf_dir\u001b[0m\u001b[0;34m,\u001b[0m \u001b[0moutDir\u001b[0m\u001b[0;34m)\u001b[0m\u001b[0;34m\u001b[0m\u001b[0;34m\u001b[0m\u001b[0m\n\u001b[0;32m----> 5\u001b[0;31m \u001b[0mconver_img\u001b[0m\u001b[0;34m(\u001b[0m\u001b[0mpdf_dir\u001b[0m\u001b[0;34m)\u001b[0m\u001b[0;34m\u001b[0m\u001b[0;34m\u001b[0m\u001b[0m\n\u001b[0m",
      "\u001b[0;31mTypeError\u001b[0m: conver_img() missing 1 required positional argument: 'outDir'"
     ]
    }
   ],
   "metadata": {}
  }
 ],
 "metadata": {
  "orig_nbformat": 4,
  "language_info": {
   "name": "python"
  }
 },
 "nbformat": 4,
 "nbformat_minor": 2
}
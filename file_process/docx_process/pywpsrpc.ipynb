{
 "cells": [
  {
   "cell_type": "code",
   "execution_count": 1,
   "metadata": {},
   "outputs": [
    {
     "name": "stdout",
     "output_type": "stream",
     "text": [
      "1\n"
     ]
    }
   ],
   "source": [
    "from pywpsrpc.rpcwpsapi import (createWpsRpcInstance, wpsapi)\n",
    "from pywpsrpc.common import (S_OK, QtApp)\n",
    "print(1)\n",
    "\n",
    "formats = {\n",
    "    \"doc\": wpsapi.wdFormatDocument,\n",
    "    \"docx\": wpsapi.wdFormatXMLDocument,\n",
    "    \"rtf\": wpsapi.wdFormatRTF,\n",
    "    \"html\": wpsapi.wdFormatHTML,\n",
    "    \"pdf\": wpsapi.wdFormatPDF,\n",
    "    \"xml\": wpsapi.wdFormatXML,\n",
    "}\n",
    "\n",
    "class ConvertException(Exception):\n",
    "\n",
    "    def __init__(self, text, hr):\n",
    "        self.text = text\n",
    "        self.hr = hr\n",
    "\n",
    "    def __str__(self):\n",
    "        return \"\"\"Convert failed:"
   ]
  }
 ],
 "metadata": {
  "interpreter": {
   "hash": "2f394aca7ca06fed1e6064aef884364492d7cdda3614a461e02e6407fc40ba69"
  },
  "kernelspec": {
   "display_name": "Python 3.9.5 64-bit ('base': conda)",
   "language": "python",
   "name": "python3"
  },
  "language_info": {
   "codemirror_mode": {
    "name": "ipython",
    "version": 3
   },
   "file_extension": ".py",
   "mimetype": "text/x-python",
   "name": "python",
   "nbconvert_exporter": "python",
   "pygments_lexer": "ipython3",
   "version": "3.9.5"
  },
  "orig_nbformat": 4
 },
 "nbformat": 4,
 "nbformat_minor": 2
}

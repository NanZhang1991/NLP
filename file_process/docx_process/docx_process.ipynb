{
 "cells": [
  {
   "cell_type": "markdown",
   "metadata": {},
   "source": [
    "#  Docx check"
   ]
  },
  {
   "cell_type": "code",
   "execution_count": 14,
   "metadata": {},
   "outputs": [
    {
     "data": {
      "text/plain": [
       "'data/input/template/template.docx'"
      ]
     },
     "execution_count": 14,
     "metadata": {},
     "output_type": "execute_result"
    }
   ],
   "source": [
    "import os\n",
    "import sys\n",
    "\n",
    "class File_check:\n",
    "\n",
    "    @property\n",
    "    def docx_path(self):\n",
    "        return self._docx\n",
    "\n",
    "    @docx_path.setter\n",
    "    def docx_path(self, fp):\n",
    "        if not ('.' in fp and fp.rsplit('.', 1)[1] =='docx'):\n",
    "            raise NameError('File name format error')\n",
    "        if not os.path.exists(fp):\n",
    "            raise  FileNotFoundError('Please provide the correct file path')\n",
    "        self._docx = fp\n",
    "\n",
    "file_check = File_check()\n",
    "\n",
    "file_check.docx_path='data/input/template/template.docx'\n",
    "file_check.docx_path\n",
    "\n",
    "# try:\n",
    "#     print(file_check.docx)\n",
    "# except Exception as e:\n",
    "#     error_line = e.__traceback__.tb_lineno\n",
    "#     print(f'{os.path.basename(sys.argv[0])}第{error_line}行发生error: {e}')\n",
    "#     print(e)"
   ]
  },
  {
   "cell_type": "markdown",
   "metadata": {},
   "source": [
    "# Processing Word with XML"
   ]
  },
  {
   "cell_type": "markdown",
   "metadata": {},
   "source": [
    "## Replace centent"
   ]
  },
  {
   "cell_type": "code",
   "execution_count": 16,
   "metadata": {},
   "outputs": [
    {
     "name": "stdout",
     "output_type": "stream",
     "text": [
      "[Content_Types].xml\n",
      "_rels/.rels\n",
      "word/document.xml\n",
      "word/_rels/document.xml.rels\n",
      "word/footnotes.xml\n",
      "word/endnotes.xml\n",
      "word/theme/theme1.xml\n",
      "word/settings.xml\n",
      "customXml/item1.xml\n",
      "customXml/itemProps1.xml\n",
      "word/numbering.xml\n",
      "word/styles.xml\n",
      "word/webSettings.xml\n",
      "word/fontTable.xml\n",
      "docProps/core.xml\n",
      "docProps/app.xml\n",
      "customXml/_rels/item1.xml.rels\n"
     ]
    }
   ],
   "source": [
    "import zipfile\n",
    "templateDocx = zipfile.ZipFile(\"data/input/template/template.docx\")\n",
    "newDocx = zipfile.ZipFile(\"data/output/template/NewDocument.docx\", \"w\")\n",
    "\n",
    "\n",
    "for file in templateDocx.filelist:\n",
    "    templateDocx.extract(file.filename, \"data/input/template\",)\n",
    "\n",
    "with open(\"data/input/template/word/document.xml\", encoding='utf-8') as docXmlFile:\n",
    "    docXmlStr =  docXmlFile.read()\n",
    "    # print(docXmlStr)\n",
    "       \n",
    "replaceText={'错误':'这是替换的文本'} \n",
    "for key in replaceText.keys():\n",
    "    new_docXmlStr = docXmlStr.replace(str(key), str(replaceText.get(key)))\n",
    "\n",
    "with open(\"data/output/template/new_document.xml\", \"w+\", encoding='utf-8') as new_docXmlFile:\n",
    "    new_docXmlFile.write(new_docXmlStr)\n",
    "\n",
    "for file in templateDocx.filelist:\n",
    "    print(file.filename)\n",
    "    if not file.filename == \"word/document.xml\":\n",
    "        newDocx.writestr(file.filename, templateDocx.read(file))\n",
    "\n",
    "newDocx.write(\"data/output/template/new_document.xml\", \"word/document.xml\")\n",
    "\n",
    "templateDocx.close()\n",
    "newDocx.close()"
   ]
  },
  {
   "cell_type": "markdown",
   "metadata": {},
   "source": [
    "## Decompressing docx"
   ]
  },
  {
   "cell_type": "code",
   "execution_count": 1,
   "metadata": {},
   "outputs": [
    {
     "name": "stdout",
     "output_type": "stream",
     "text": [
      "['[Content_Types].xml', '_rels/.rels', 'word/document.xml', 'word/_rels/document.xml.rels', 'word/theme/theme1.xml', 'word/settings.xml', 'word/styles.xml', 'word/webSettings.xml', 'word/fontTable.xml', 'docProps/core.xml', 'docProps/app.xml']\n"
     ]
    }
   ],
   "source": [
    "import zipfile\n",
    "templateDocx = zipfile.ZipFile(\"data/input/template/template.docx\")\n",
    "templateDocx.extractall(\"data/input/template\")\n",
    "filename = templateDocx.namelist()\n",
    "print(filename)\n",
    "document_content = templateDocx.read(\"word/document.xml\").decode('utf-8') \n",
    "\n",
    "# for file in templateDocx.filelist:\n",
    "#     templateDocx.extract(file.filename, \"data/input/template\")\n",
    "\n",
    "# with open(\"data/input/template/word/document.xml\", encoding='utf-8') as docXmlFile:\n",
    "#     docXmlStr =  docXmlFile.read()\n",
    "#     # print(docXmlStr)\n",
    "       \n",
    "templateDocx.close()"
   ]
  },
  {
   "cell_type": "markdown",
   "metadata": {},
   "source": [
    "## Add comment"
   ]
  },
  {
   "cell_type": "code",
   "execution_count": 197,
   "metadata": {},
   "outputs": [
    {
     "name": "stdout",
     "output_type": "stream",
     "text": [
      "['[Content_Types].xml', '_rels/.rels', 'word/document.xml', 'word/_rels/document.xml.rels', 'word/comments.xml', 'word/theme/theme1.xml', 'word/settings.xml', 'customXml/item1.xml', 'customXml/itemProps1.xml', 'word/styles.xml', 'word/webSettings.xml', 'word/commentsExtended.xml', 'word/commentsIds.xml', 'word/commentsExtensible.xml', 'word/fontTable.xml', 'word/people.xml', 'docProps/core.xml', 'docProps/app.xml', 'customXml/_rels/item1.xml.rels']\n"
     ]
    },
    {
     "data": {
      "text/plain": [
       "'\\nword/_rels/document.xml.rels\\nword/comments.xml\\nword/document.xml\\nword/commentsExtended\\nword/commentsExtensible.xml\\nword/commentsIds.xml\\nword/people.xml\\n'"
      ]
     },
     "execution_count": 197,
     "metadata": {},
     "output_type": "execute_result"
    }
   ],
   "source": [
    "import zipfile\n",
    "commentDocx = zipfile.ZipFile(\"data/input/template_comment/template_comment.docx\")\n",
    "commentDocx.extractall(\"data/input/template_comment/\")\n",
    "filename = commentDocx.namelist()\n",
    "print(filename)\n",
    "\n",
    "# for file in commentDocx.filelist:\n",
    "#     commentDocx.extract(file.filename, \"data/input/template_comment/\")\n",
    "\n",
    "       \n",
    "commentDocx.close()\n",
    "'''\n",
    "word/_rels/document.xml.rels\n",
    "word/comments.xml\n",
    "word/document.xml\n",
    "word/commentsExtended\n",
    "word/commentsExtensible.xml\n",
    "word/commentsIds.xml\n",
    "word/people.xml\n",
    "'''"
   ]
  },
  {
   "cell_type": "code",
   "execution_count": 4,
   "metadata": {},
   "outputs": [
    {
     "name": "stdout",
     "output_type": "stream",
     "text": [
      "********** _rels/.rels\n",
      "********** word/theme/theme1.xml\n",
      "********** word/settings.xml\n",
      "********** word/styles.xml\n",
      "********** word/webSettings.xml\n",
      "********** word/fontTable.xml\n",
      "********** docProps/core.xml\n",
      "********** docProps/app.xml\n",
      "['[Content_Types].xml', '_rels/.rels', 'word/document.xml', 'word/_rels/document.xml.rels', 'word/comments.xml', 'word/theme/theme1.xml', 'word/settings.xml', 'customXml/item1.xml', 'customXml/itemProps1.xml', 'word/styles.xml', 'word/webSettings.xml', 'word/commentsExtended.xml', 'word/commentsIds.xml', 'word/commentsExtensible.xml', 'word/fontTable.xml', 'word/people.xml', 'docProps/core.xml', 'docProps/app.xml', 'customXml/_rels/item1.xml.rels']\n",
      "++++++++++ [Content_Types].xml\n",
      "++++++++++ word/document.xml\n",
      "++++++++++ word/_rels/document.xml.rels\n",
      "++++++++++ word/comments.xml\n",
      "++++++++++ customXml/item1.xml\n"
     ]
    },
    {
     "data": {
      "text/plain": [
       "'\\ndiff\\n[Content_Types].xml\\n<Override PartName=\"/word/comments.xml\" ContentType=\"application/vnd.openxmlformats-officedocument.wordprocessingml.comments+xml\"/>\\n<Override PartName=\"/word/commentsExtended.xml\" ContentType=\"application/vnd.openxmlformats-officedocument.wordprocessingml.commentsExtended+xml\"/>\\n<Override PartName=\"/word/commentsIds.xml\" ContentType=\"application/vnd.openxmlformats-officedocument.wordprocessingml.commentsIds+xml\"/>\\n<Override PartName=\"/word/commentsExtensible.xml\" ContentType=\"application/vnd.openxmlformats-officedocument.wordprocessingml.commentsExtensible+xml\"/>\\n'"
      ]
     },
     "execution_count": 4,
     "metadata": {},
     "output_type": "execute_result"
    }
   ],
   "source": [
    "import zipfile\n",
    "templateDocx = zipfile.ZipFile(\"data/input/template/template.docx\")\n",
    "commentDocx = zipfile.ZipFile(\"data/input/template_comment/template_comment.docx\")\n",
    "newDocx = zipfile.ZipFile(\"data/output/add_comment/add_comment.docx\", \"w\")\n",
    "\n",
    "for file in templateDocx.filelist:      \n",
    "    if file.filename in ['_rels/.rels', 'word/styles.xml',\n",
    "                        'word/theme/theme1.xml', 'word/settings.xml', 'word/webSettings.xml', \n",
    "                        'word/fontTable.xml', 'docProps/core.xml', 'docProps/app.xml'\n",
    "                        ]:\n",
    "        print('*'*10, file.filename)\n",
    "        newDocx.writestr(file.filename, templateDocx.read(file))\n",
    "\n",
    "comFile =  commentDocx.namelist()\n",
    "print(comFile)\n",
    "for file in commentDocx.filelist: \n",
    "    # newDocx.writestr(file.filename,commentDocx.read(file))   \n",
    "    if file.filename in['[Content_Types].xml',  'word/document.xml', 'word/_rels/document.xml.rels', 'word/comments.xml', \n",
    "                        'customXml/item1.xml', \n",
    "                        # 'customXml/itemProps1.xml', 'customXml/_rels/item1.xml.rels',\n",
    "                        # 'word/commentsExtended.xml', 'word/commentsIds.xml', 'word/commentsExtensible.xml', 'word/people.xml', \n",
    "                        ]:\n",
    "        print('+'*10, file.filename)                     \n",
    "        newDocx.writestr(file.filename,commentDocx.read(file))  \n",
    "\n",
    "templateDocx.close()\n",
    "newDocx.close()\n",
    "\n",
    "\n",
    "'''\n",
    "['[Content_Types].xml', '_rels/.rels', 'word/document.xml', 'word/_rels/document.xml.rels', \n",
    "'word/comments.xml', 'word/theme/theme1.xml', 'word/settings.xml', 'word/styles.xml', 'word/webSettings.xml', \n",
    "'word/commentsExtended.xml', 'word/commentsIds.xml', \n",
    "'word/commentsExtensible.xml', 'word/fontTable.xml', 'word/people.xml', 'docProps/core.xml', 'docProps/app.xml']\n",
    "'''\n",
    "\n",
    "'''\n",
    "diff\n",
    "[Content_Types].xml\n",
    "<Override PartName=\"/word/comments.xml\" ContentType=\"application/vnd.openxmlformats-officedocument.wordprocessingml.comments+xml\"/>\n",
    "<Override PartName=\"/word/commentsExtended.xml\" ContentType=\"application/vnd.openxmlformats-officedocument.wordprocessingml.commentsExtended+xml\"/>\n",
    "<Override PartName=\"/word/commentsIds.xml\" ContentType=\"application/vnd.openxmlformats-officedocument.wordprocessingml.commentsIds+xml\"/>\n",
    "<Override PartName=\"/word/commentsExtensible.xml\" ContentType=\"application/vnd.openxmlformats-officedocument.wordprocessingml.commentsExtensible+xml\"/>\n",
    "'''"
   ]
  },
  {
   "cell_type": "code",
   "execution_count": 422,
   "metadata": {},
   "outputs": [
    {
     "name": "stdout",
     "output_type": "stream",
     "text": [
      "p_n:0 三、财务报告审计截止日后主要财务信息及经营状况\n",
      "r_n:0 三、财务报告审计截止日后主要财务信息及经营状况\n",
      "<CT_R '<w:r>' at 0x1ccdb1640e8>\n",
      "p_n:1 审计基准日至本招股说明书签署日，公司经营正常，主营业务未发生重大变化，不存在可能影响投资者判断的重大事项。\n",
      "r_n:0 审计基准日至本招股说明书签署日，公司经营正常，主营业务未发生重大变化，不存在可能影响投资者判断的重大事项。\n",
      "<CT_R '<w:r>' at 0x1ccd6577bd8>\n",
      "p_n:2 公司财务报告审计截止日为2019年12月31日，审计截止日后至本招股说明书签署之日，公司经营正常，主营业务、采购模式、销售模式、研发模式等方面均未发生重大变化，未发生导致公司业绩异常波动的重大不利因素。\n",
      "r_n:0 公司财务报告审计截止日为\n",
      "<CT_R '<w:r>' at 0x1ccdb1640e8>\n",
      "r_n:1 2019\n",
      "<CT_R '<w:r>' at 0x1ccdb164188>\n",
      "r_n:2 年\n",
      "<CT_R '<w:r>' at 0x1ccdb1649f8>\n",
      "r_n:3 12\n",
      "<CT_R '<w:r>' at 0x1ccdb164a48>\n",
      "r_n:4 月\n",
      "<CT_R '<w:r>' at 0x1ccdb164908>\n",
      "r_n:5 31\n",
      "<CT_R '<w:r>' at 0x1ccdb164d18>\n",
      "r_n:6 日，审计截止日后至本招股说明书签署之日，公司经营正常，主营业务、采购模式、销售模式、研发模式等方面均未发生重大变化，未发生导致公司业绩异常波动的重大不利因素。\n",
      "<CT_R '<w:r>' at 0x1ccd6577f48>\n",
      "p_n:3 信永中和对公司2020年3月31日合并及母公司资产负债表，2020年1-3月的合并及母公司利润表、合并及母公司现金流量表以及财务报表附注进行了审阅，并出具了XYZH/2020NJA30352号《审阅报告》。公司2020年1-3月营业收入为2,460,684.32元，较去年同期下降51.59%，主要是疫情影响，验收项目减少；归属于母公司股东的净利润为2,998,141.82元，较去年同期增长145.14%；扣非后归属于母公司股东的净利润为3,001,996.54元，较去年同期增长145.18%，主要是该期间客户回款情况良好，冲回应收账款坏账损失所致。\n",
      "r_n:0 信永中和对公司\n",
      "<CT_R '<w:r>' at 0x1ccdb164188>\n",
      "r_n:1 2020\n",
      "<CT_R '<w:r>' at 0x1ccdb1649f8>\n",
      "r_n:2 年\n",
      "<CT_R '<w:r>' at 0x1ccdb164a48>\n",
      "r_n:3 3\n",
      "<CT_R '<w:r>' at 0x1ccdb164908>\n",
      "r_n:4 月\n",
      "<CT_R '<w:r>' at 0x1ccdb164d18>\n",
      "r_n:5 31\n",
      "<CT_R '<w:r>' at 0x1ccdb14a9f8>\n",
      "r_n:6 日合并及母公司资产负债表，\n",
      "<CT_R '<w:r>' at 0x1ccdb14a818>\n",
      "r_n:7 2020\n",
      "<CT_R '<w:r>' at 0x1ccdb14aae8>\n",
      "r_n:8 年\n",
      "<CT_R '<w:r>' at 0x1ccdb14a408>\n",
      "r_n:9 1-3\n",
      "<CT_R '<w:r>' at 0x1ccdb14a458>\n",
      "r_n:10 月的合并及母公司利润表、合并及母公司现金流量表以及财务报表附注进行了审阅，并出具了\n",
      "<CT_R '<w:r>' at 0x1ccdb14a9a8>\n",
      "r_n:11 XYZH/2020NJA30352\n",
      "<CT_R '<w:r>' at 0x1ccdb14a3b8>\n",
      "r_n:12 号《审阅报告》。公司\n",
      "<CT_R '<w:r>' at 0x1ccdb14a6d8>\n",
      "r_n:13 2020\n",
      "<CT_R '<w:r>' at 0x1ccdb14a188>\n",
      "r_n:14 年\n",
      "<CT_R '<w:r>' at 0x1ccdb14ad68>\n",
      "r_n:15 1-3\n",
      "<CT_R '<w:r>' at 0x1ccdb14a278>\n",
      "r_n:16 月营业收入为\n",
      "<CT_R '<w:r>' at 0x1ccdb14a1d8>\n",
      "r_n:17 2,460,684.32\n",
      "<CT_R '<w:r>' at 0x1ccdb14a4a8>\n",
      "r_n:18 元，较去年同期下降\n",
      "<CT_R '<w:r>' at 0x1ccdb14a2c8>\n",
      "r_n:19 51.59%\n",
      "<CT_R '<w:r>' at 0x1ccdb14a598>\n",
      "r_n:20 ，主要是疫情影响，验收项目减少；归属于母公司股东的净利润为\n",
      "<CT_R '<w:r>' at 0x1ccdb14a4f8>\n",
      "r_n:21 2,998,141.82\n",
      "<CT_R '<w:r>' at 0x1ccdb14a638>\n",
      "r_n:22 元，较去年同期增长\n",
      "<CT_R '<w:r>' at 0x1ccdb14a5e8>\n",
      "r_n:23 145.14%\n",
      "<CT_R '<w:r>' at 0x1ccdb14a728>\n",
      "r_n:24 ；扣非后归属于母公司股东的净利润为\n",
      "<CT_R '<w:r>' at 0x1ccdb14a688>\n",
      "r_n:25 3,001,996.54\n",
      "<CT_R '<w:r>' at 0x1ccdb14a8b8>\n",
      "r_n:26 元，较去年同期增长\n",
      "<CT_R '<w:r>' at 0x1ccdb14a7c8>\n",
      "r_n:27 145.18%\n",
      "<CT_R '<w:r>' at 0x1ccdb14aa48>\n",
      "r_n:28 ，主要是该期间客户回款情况良好，冲回应收账款坏账损失所致。\n",
      "<CT_R '<w:r>' at 0x1ccda861458>\n",
      "p_n:4 审计截止日后至本招股说明书签署之日，公司经营正常，主营业务、采购模式、销售模式、研发模式等方面均未发生重大变化，未发生导致公司业绩异常波动的重大不利因素。\n",
      "r_n:0 审计截止日后至本招股说明书签署之日，公司经营正常，主营业务、采购模式、销售模式、研发模式等方面均未发生重大变化，未发生导致公司业绩异常波动的重大不利因素。\n",
      "<CT_R '<w:r>' at 0x1ccdb1640e8>\n",
      "p_n:5 \n"
     ]
    }
   ],
   "source": [
    "from docx import Document\n",
    "\n",
    "doc = Document('data/input/template/template.docx')\n",
    "for p_n, p in enumerate(doc.paragraphs):\n",
    "    print(f'p_n:{p_n} {p.text}')\n",
    "    for r_n, r in enumerate(p.runs):\n",
    "        print(f'r_n:{r_n} {r.text}')\n",
    "        print(r._element)"
   ]
  },
  {
   "cell_type": "code",
   "execution_count": 2,
   "metadata": {},
   "outputs": [
    {
     "name": "stdout",
     "output_type": "stream",
     "text": [
      "len_p3:277\n",
      "char_position:232\n",
      "r_n:0 run_len:7 '信永中和对公司'  position: [0, 1, 2, 3, 4, 5, 6]\n",
      "r_n:1 run_len:4 '2020'  position: [7, 8, 9, 10]\n",
      "r_n:2 run_len:1 '年'  position: [11]\n",
      "r_n:3 run_len:1 '3'  position: [12]\n",
      "r_n:4 run_len:1 '月'  position: [13]\n",
      "r_n:5 run_len:2 '31'  position: [14, 15]\n",
      "r_n:6 run_len:13 '日合并及母公司资产负债表，'  position: [16, 17, 18, 19, 20, 21, 22, 23, 24, 25, 26, 27, 28]\n",
      "r_n:7 run_len:4 '2020'  position: [29, 30, 31, 32]\n",
      "r_n:8 run_len:1 '年'  position: [33]\n",
      "r_n:9 run_len:3 '1-3'  position: [34, 35, 36]\n",
      "r_n:10 run_len:41 '月的合并及母公司利润表、合并及母公司现金流量表以及财务报表附注进行了审阅，并出具了'  position: [37, 38, 39, 40, 41, 42, 43, 44, 45, 46, 47, 48, 49, 50, 51, 52, 53, 54, 55, 56, 57, 58, 59, 60, 61, 62, 63, 64, 65, 66, 67, 68, 69, 70, 71, 72, 73, 74, 75, 76, 77]\n",
      "r_n:11 run_len:17 'XYZH/2020NJA30352'  position: [78, 79, 80, 81, 82, 83, 84, 85, 86, 87, 88, 89, 90, 91, 92, 93, 94]\n",
      "r_n:12 run_len:10 '号《审阅报告》。公司'  position: [95, 96, 97, 98, 99, 100, 101, 102, 103, 104]\n",
      "r_n:13 run_len:4 '2020'  position: [105, 106, 107, 108]\n",
      "r_n:14 run_len:1 '年'  position: [109]\n",
      "r_n:15 run_len:3 '1-3'  position: [110, 111, 112]\n",
      "r_n:16 run_len:6 '月营业收入为'  position: [113, 114, 115, 116, 117, 118]\n",
      "r_n:17 run_len:12 '2,460,684.32'  position: [119, 120, 121, 122, 123, 124, 125, 126, 127, 128, 129, 130]\n",
      "r_n:18 run_len:9 '元，较去年同期下降'  position: [131, 132, 133, 134, 135, 136, 137, 138, 139]\n",
      "r_n:19 run_len:6 '51.59%'  position: [140, 141, 142, 143, 144, 145]\n",
      "r_n:20 run_len:29 '，主要是疫情影响，验收项目减少；归属于母公司股东的净利润为'  position: [146, 147, 148, 149, 150, 151, 152, 153, 154, 155, 156, 157, 158, 159, 160, 161, 162, 163, 164, 165, 166, 167, 168, 169, 170, 171, 172, 173, 174]\n",
      "r_n:21 run_len:12 '2,998,141.82'  position: [175, 176, 177, 178, 179, 180, 181, 182, 183, 184, 185, 186]\n",
      "r_n:22 run_len:9 '元，较去年同期增长'  position: [187, 188, 189, 190, 191, 192, 193, 194, 195]\n",
      "r_n:23 run_len:7 '145.14%'  position: [196, 197, 198, 199, 200, 201, 202]\n",
      "r_n:24 run_len:17 '；扣非后归属于母公司股东的净利润为'  position: [203, 204, 205, 206, 207, 208, 209, 210, 211, 212, 213, 214, 215, 216, 217, 218, 219]\n",
      "r_n:25 run_len:12 '3,001,996.54'  position: [220, 221, 222, 223, 224, 225, 226, 227, 228, 229, 230, 231]\n",
      "r_n:26 run_len:9 '元，较去年同期增长'  position: [232, 233, 234, 235, 236, 237, 238, 239, 240]\n",
      "r_n:27 run_len:7 '145.18%'  position: [241, 242, 243, 244, 245, 246, 247]\n",
      "r_n:28 run_len:29 '，主要是该期间客户回款情况良好，冲回应收账款坏账损失所致。'  position: [248, 249, 250, 251, 252, 253, 254, 255, 256, 257, 258, 259, 260, 261, 262, 263, 264, 265, 266, 267, 268, 269, 270, 271, 272, 273, 274, 275, 276]\n",
      "p_len2:277\n",
      "char_position in run 26 run_index 0\n",
      "old wr ---> 元，较去年同期增长\n",
      "\n",
      "\n",
      "r_n:0 run_len:77 '审计截止日后至本招股说明书签署之日，公司经营正常，主营业务、采购模式、销售模式、研发模式等方面均未发生重大变化，未发生导致公司业绩异常波动的重大不利因素。'  position: [0, 1, 2, 3, 4, 5, 6, 7, 8, 9, 10, 11, 12, 13, 14, 15, 16, 17, 18, 19, 20, 21, 22, 23, 24, 25, 26, 27, 28, 29, 30, 31, 32, 33, 34, 35, 36, 37, 38, 39, 40, 41, 42, 43, 44, 45, 46, 47, 48, 49, 50, 51, 52, 53, 54, 55, 56, 57, 58, 59, 60, 61, 62, 63, 64, 65, 66, 67, 68, 69, 70, 71, 72, 73, 74, 75, 76]\n",
      "p_len2:77\n",
      "\n",
      "\n"
     ]
    }
   ],
   "source": [
    "from bs4 import BeautifulSoup\n",
    "import re\n",
    "import copy\n",
    "\n",
    "soup = BeautifulSoup(open(\"data/input/template/word/document.xml\", encoding='utf-8'), 'xml')\n",
    "\n",
    "p3 = '信永中和对公司2020年3月31日合并及母公司资产负债表，2020年1-3月的合并及母公司利润表、合并及母公司现金流量表以及财务报表附注进行了审阅，\\\n",
    "    并出具了XYZH/2020NJA30352号《审阅报告》。公司2020年1-3月营业收入为2,460,684.32元，较去年同期下降51.59%，主要是疫情影响，验收项目减少；\\\n",
    "        归属于母公司股东的净利润为2,998,141.82元，较去年同期增长145.14%；扣非后归属于母公司股东的净利润为3,001,996.54元，\\\n",
    "    较去年同期增长145.18%，主要是该期间客户回款情况良好，冲回应收账款坏账损失所致。'\n",
    "p3 = re.sub('\\s', '', p3, flags=re.S)\n",
    "print(f'len_p3:{len(p3)}')\n",
    "search_char = '元'\n",
    "char_position =p3.rfind(search_char)\n",
    "print(f'char_position:{char_position}')\n",
    "p_n_list = [3, 4]\n",
    "for p_n, wp in enumerate(soup.find_all(\"w:p\")):\n",
    "    if p_n in p_n_list:\n",
    "        position = {}\n",
    "        t_p_len2 = 0\n",
    "        run_i = 0\n",
    "        # Gets the character position contained in each RUN\n",
    "        for r_n, wr in enumerate(wp.find_all(\"w:r\")):\n",
    "            run_text = wr.get_text().strip()\n",
    "            position[r_n] = list(range(run_i, run_i + len(run_text)))\n",
    "            run_i += len(run_text)\n",
    "            print(f'r_n:{r_n} run_len:{len(run_text)} {repr(run_text)}  position: {position[r_n]}')\n",
    "            t_p_len2 += len(run_text) \n",
    "        print(f'p_len2:{t_p_len2}')\n",
    "        # Gets the RUN index of the character\n",
    "        for run_n, scope in  position.items():\n",
    "            if char_position in scope:\n",
    "                print(f'char_position in run {run_n} run_index {scope.index(char_position)}') \n",
    "                for r_n, wr in enumerate(wp.find_all(\"w:r\")):\n",
    "                    if r_n == run_n:\n",
    "                        print(f'old wr ---> {wr.t.string}')\n",
    "                        n_wr = copy.copy(wr)\n",
    "                        n_wp = copy.copy(wp)\n",
    "        print('\\n')\n"
   ]
  },
  {
   "cell_type": "code",
   "execution_count": 4,
   "metadata": {},
   "outputs": [
    {
     "data": {
      "text/plain": [
       "<w:r>\n",
       "<w:rPr>\n",
       "<w:rFonts w:hint=\"eastAsia\"/>\n",
       "</w:rPr>\n",
       "<w:t>元，较去年同期增长</w:t>\n",
       "</w:r>"
      ]
     },
     "execution_count": 4,
     "metadata": {},
     "output_type": "execute_result"
    }
   ],
   "source": [
    "n_wr"
   ]
  },
  {
   "cell_type": "code",
   "execution_count": 3,
   "metadata": {},
   "outputs": [
    {
     "name": "stdout",
     "output_type": "stream",
     "text": [
      "元，较去年同期增长 \n",
      "\n",
      "<w:r>\n",
      "<w:rPr>\n",
      "<w:rFonts w:hint=\"eastAsia\"/>\n",
      "</w:rPr>\n",
      "<w:t>元</w:t>\n",
      "</w:r> \n",
      "\n",
      "<w:r>\n",
      "<w:rPr>\n",
      "<w:rFonts w:hint=\"eastAsia\"/>\n",
      "</w:rPr>\n",
      "<w:t>，较去年同期增长</w:t>\n",
      "</w:r> \n",
      "\n"
     ]
    }
   ],
   "source": [
    "print(n_wr.t.string, '\\n')\n",
    "\n",
    "run_index = n_wr.t.string.find('元')\n",
    "if run_index != 0:\n",
    "    wr_s = copy.copy(n_wr)\n",
    "    wr_s.t.string = n_wr.t.string[:run_index]\n",
    "    print(wr_s, '\\n')\n",
    "\n",
    "wr_m = copy.copy(n_wr)\n",
    "wr_m.t.string = n_wr.t.string[run_index]\n",
    "print(wr_m, '\\n')\n",
    "\n",
    "if run_index != len(n_wr.t.string)-1:\n",
    "    wr_e = copy.copy(n_wr)\n",
    "    wr_e.t.string = n_wr.t.string[run_index+1:]\n",
    "    print(wr_e, '\\n')"
   ]
  },
  {
   "cell_type": "code",
   "execution_count": 4,
   "metadata": {},
   "outputs": [
    {
     "name": "stdout",
     "output_type": "stream",
     "text": [
      "<w:commentRangeStart w:id=\"2\"/> \n",
      "\n",
      "<w:commentRangeEnd w:id=\"2\"/> \n",
      "\n",
      "<w:r w:rsidR=\"00471573\">\n",
      "<w:rPr>\n",
      "<w:rStyle w:val=\"a3\"/>\n",
      "<w:rFonts w:asciiTheme=\"minorHAnsi\" w:cstheme=\"minorBidi\" w:hAnsiTheme=\"minorHAnsi\"/>\n",
      "</w:rPr>\n",
      "<w:commentReference w:id=\"2\"/>\n",
      "</w:r>\n",
      "<w:r w:rsidR=\"001E28BC\">\n",
      "<w:rPr>\n",
      "<w:rStyle w:val=\"a3\"/>\n",
      "<w:rFonts w:asciiTheme=\"minorHAnsi\" w:cstheme=\"minorBidi\" w:hAnsiTheme=\"minorHAnsi\"/>\n",
      "</w:rPr>\n",
      "<w:commentReference w:id=\"3\"/>\n",
      "</w:r>\n"
     ]
    }
   ],
   "source": [
    "insert_comment = BeautifulSoup(open(\"data/input/template_comment/word/document.xml\", encoding='utf-8'), 'xml')\n",
    "commentRangeStart = insert_comment.find_all('w:commentRangeStart')[0]\n",
    "print(commentRangeStart, '\\n')\n",
    "commentRangeEnd =  insert_comment.find_all('w:commentRangeEnd')[0]\n",
    "print(commentRangeEnd, '\\n')\n",
    "for r in insert_comment.find_all('w:r'):\n",
    "    if r.commentReference:\n",
    "        commentReference = r\n",
    "        print(commentReference)"
   ]
  },
  {
   "cell_type": "code",
   "execution_count": 10,
   "metadata": {},
   "outputs": [
    {
     "data": {
      "text/plain": [
       "<w:p w14:paraId=\"06D8FD3B\" w14:textId=\"58FA5127\" w:rsidR=\"003D06AA\" w:rsidRDefault=\"003D06AA\" w:rsidRPr=\"004E5CE9\">\n",
       "<w:pPr>\n",
       "<w:rPr>\n",
       "<w:rFonts w:hint=\"eastAsia\"/>\n",
       "</w:rPr>\n",
       "</w:pPr>\n",
       "</w:p>"
      ]
     },
     "execution_count": 10,
     "metadata": {},
     "output_type": "execute_result"
    }
   ],
   "source": [
    "wp"
   ]
  },
  {
   "cell_type": "code",
   "execution_count": 9,
   "metadata": {},
   "outputs": [
    {
     "data": {
      "text/plain": [
       "<w:p w14:paraId=\"06D8FD3B\" w14:textId=\"58FA5127\" w:rsidR=\"003D06AA\" w:rsidRDefault=\"003D06AA\" w:rsidRPr=\"004E5CE9\">\n",
       "<w:pPr>\n",
       "<w:rPr>\n",
       "<w:rFonts w:hint=\"eastAsia\"/>\n",
       "</w:rPr>\n",
       "</w:pPr>\n",
       "<w:r>\n",
       "<w:rPr>\n",
       "<w:rFonts w:hint=\"eastAsia\"/>\n",
       "</w:rPr>\n",
       "<w:t>，较去年同期增长</w:t>\n",
       "</w:r></w:p>"
      ]
     },
     "execution_count": 9,
     "metadata": {},
     "output_type": "execute_result"
    }
   ],
   "source": [
    "n_wp2 = copy.copy(wp)\n",
    "# n_wp2.append(wr_e)\n",
    "# n_wp2.append(copy.copy(wr_e))\n",
    "# n_wp2.append(copy.copy(wr_e))\n",
    "n_wp2.insert(3, copy.copy(wr_e))\n",
    "n_wp2"
   ]
  },
  {
   "cell_type": "markdown",
   "metadata": {},
   "source": [
    "## Processing fontnote with footnotes.xml"
   ]
  },
  {
   "cell_type": "code",
   "execution_count": 14,
   "metadata": {},
   "outputs": [
    {
     "name": "stdout",
     "output_type": "stream",
     "text": [
      "-1\n",
      " \n",
      "  --------------------\n",
      "0\n",
      " \n",
      "  --------------------\n",
      "1\n",
      " .《关于成立‘江苏东大特种基础工程开发公司’的报告》，1-2-1。 \n",
      "  --------------------\n",
      "2\n",
      " .《联营协议书》，1-2-1。 \n",
      "  --------------------\n",
      "3\n",
      " .《关于成立“江苏东大特种基础工程开发公司”的决定》，1-2-1。 \n",
      "  --------------------\n",
      "4\n",
      " .验字（94）6号验资证明，1-3-2。 \n",
      "  --------------------\n",
      "5\n",
      " .《国有资产产权登记表附表》，1-2-1。 \n",
      "  --------------------\n",
      "6\n",
      " .《审计报告》（XYZH/2015NJA30090号），1-4-4-1。 \n",
      "  --------------------\n",
      "7\n",
      " 《评估报告》（天源评报字[2015]第0199号），1-4-4-2。 \n",
      "  --------------------\n",
      "8\n",
      " 《验资报告》（XYZH[20l5]NJA30092号），1-4-4-3。 \n",
      "  --------------------\n"
     ]
    }
   ],
   "source": [
    "from bs4 import BeautifulSoup\n",
    "soup = BeautifulSoup(open(\"data/word/footnotes.xml\", encoding='utf-8'), 'xml')\n",
    "# print(soup.prettify())\n",
    "for footnote in soup.find_all('w:footnote'):\n",
    "    footnote_id = footnote.get('w:id')\n",
    "    print( footnote_id,)\n",
    "    print(footnote.text, '\\n ','--'*10)\n"
   ]
  },
  {
   "cell_type": "code",
   "execution_count": 15,
   "metadata": {},
   "outputs": [
    {
     "name": "stdout",
     "output_type": "stream",
     "text": [
      "<w:t>关于成立</w:t>\n",
      "<w:t>关于成立测试</w:t>\n"
     ]
    }
   ],
   "source": [
    "for footnote in soup.find_all('w:footnote'):\n",
    "    for w_t in footnote.find_all('w:t'):\n",
    "        if  \"关于成立\" in w_t:\n",
    "            print(w_t)\n",
    "            w_t.insert(1,'测试')\n",
    "            print(w_t)\n",
    "\n",
    "with open('data/word/new_footnotes.xml', 'w',  encoding='utf-8') as fp:\n",
    "    fp.write(soup.prettify())"
   ]
  },
  {
   "cell_type": "markdown",
   "metadata": {},
   "source": [
    "# Docx to byte stream and byte stream to docx "
   ]
  },
  {
   "cell_type": "code",
   "execution_count": 35,
   "metadata": {},
   "outputs": [],
   "source": [
    "import base64\n",
    "\n",
    "fp = 'data/input/template/template.docx'\n",
    "with open(fp,'rb') as f:\n",
    "    res = base64.b64encode(f.read())\n",
    "\n",
    "docx = base64.b64decode(res)\n",
    "\n",
    "with open('data/output/test.docx','wb') as f:\n",
    "    f.write(docx)"
   ]
  }
 ],
 "metadata": {
  "kernelspec": {
   "display_name": "Python 3.7.10 64-bit ('py3.7': conda)",
   "name": "python3710jvsc74a57bd0b82c4dcea0e292ae3c5056cb1ce5f519b54b2436655e008d9c8bf4bca92723c8"
  },
  "language_info": {
   "codemirror_mode": {
    "name": "ipython",
    "version": 3
   },
   "file_extension": ".py",
   "mimetype": "text/x-python",
   "name": "python",
   "nbconvert_exporter": "python",
   "pygments_lexer": "ipython3",
   "version": "3.7.10"
  },
  "orig_nbformat": 3
 },
 "nbformat": 4,
 "nbformat_minor": 5
}

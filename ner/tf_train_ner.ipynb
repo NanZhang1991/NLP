{
 "cells": [
  {
   "cell_type": "code",
   "execution_count": null,
   "metadata": {},
   "outputs": [],
   "source": [
    "! pip install tensorflow\n",
    "! pip install transformers\n",
    "! pip install datasets\n",
    "! pip install seqeval"
   ]
  }
 ],
 "metadata": {
  "interpreter": {
   "hash": "e939d5bb16cf13818e82bf9a93884c7e864e24f2ddf7ab07cf888d7689552f58"
  },
  "kernelspec": {
   "display_name": "Python 3.7.11 64-bit ('tfs': conda)",
   "language": "python",
   "name": "python3"
  },
  "language_info": {
   "name": "python",
   "version": "3.7.11"
  },
  "orig_nbformat": 4
 },
 "nbformat": 4,
 "nbformat_minor": 2
}

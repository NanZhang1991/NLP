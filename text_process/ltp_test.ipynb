{
 "cells": [
  {
   "cell_type": "markdown",
   "metadata": {},
   "source": [
    "## 词性标注"
   ]
  },
  {
   "cell_type": "code",
   "execution_count": 20,
   "metadata": {},
   "outputs": [
    {
     "name": "stdout",
     "output_type": "stream",
     "text": [
      "[['腾讯', '公司', '花费', '了', '300百万', '元']]\n"
     ]
    },
    {
     "data": {
      "text/plain": [
       "[['nz', 'n', 'v', 'u', 'm', 'q']]"
      ]
     },
     "execution_count": 20,
     "metadata": {},
     "output_type": "execute_result"
    }
   ],
   "source": [
    "from ltp import LTP\n",
    "ltp = LTP()\n",
    "\n",
    "seg, hidden = ltp.seg([\"腾讯公司花费了300百万元\"])\n",
    "print(seg)\n",
    "pos = ltp.pos(hidden)\n",
    "pos"
   ]
  },
  {
   "cell_type": "markdown",
   "metadata": {},
   "source": [
    "## 实体识别"
   ]
  },
  {
   "cell_type": "code",
   "execution_count": 24,
   "metadata": {},
   "outputs": [
    {
     "name": "stdout",
     "output_type": "stream",
     "text": [
      "[['中国', '花费', '了', '300百万', '元']]\n"
     ]
    },
    {
     "data": {
      "text/plain": [
       "[[('Ns', 0, 0)]]"
      ]
     },
     "execution_count": 24,
     "metadata": {},
     "output_type": "execute_result"
    }
   ],
   "source": [
    "seg, hidden = ltp.seg([\"中国花费了300百万元\"])\n",
    "print(seg)\n",
    "ner = ltp.ner(hidden)\n",
    "ner"
   ]
  }
 ],
 "metadata": {
  "interpreter": {
   "hash": "786fbf537fb358117198a3d18baf5a6bf1d1200912b85f5ae3d59f2b2715c32d"
  },
  "kernelspec": {
   "display_name": "Python 3.7.11 64-bit ('ltp': conda)",
   "language": "python",
   "name": "python3"
  },
  "language_info": {
   "codemirror_mode": {
    "name": "ipython",
    "version": 3
   },
   "file_extension": ".py",
   "mimetype": "text/x-python",
   "name": "python",
   "nbconvert_exporter": "python",
   "pygments_lexer": "ipython3",
   "version": "3.7.11"
  },
  "orig_nbformat": 4
 },
 "nbformat": 4,
 "nbformat_minor": 2
}

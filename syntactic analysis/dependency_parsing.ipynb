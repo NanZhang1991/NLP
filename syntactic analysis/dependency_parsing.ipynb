{
 "cells": [
  {
   "cell_type": "markdown",
   "metadata": {},
   "source": [
    "# 依存句法分析"
   ]
  },
  {
   "cell_type": "code",
   "execution_count": 66,
   "metadata": {},
   "outputs": [
    {
     "name": "stdout",
     "output_type": "stream",
     "text": [
      "[['1993年', '12月', '6日', '，', '东大', '科技', '作出', '“', '东集', '发展字', '[', '93', ']', '第58', '号', '”', '决定', '，', '由', '东大', '科技', '所属', '基础', '与', '建材', '研究所', '与', '宜兴', '京', '宜', '联合', '成立', '“', '江苏', '东大', '特种', '基础', '工程', '开发', '公司']]\n",
      "[[(1, 3, 'ATT'), (2, 3, 'ATT'), (3, 7, 'ADV'), (4, 3, 'WP'), (5, 6, 'ATT'), (6, 7, 'SBV'), (7, 0, 'HED'), (8, 15, 'WP'), (9, 10, 'ATT'), (10, 15, 'ATT'), (11, 15, 'ATT'), (12, 15, 'ATT'), (13, 12, 'WP'), (14, 15, 'ATT'), (15, 17, 'ATT'), (16, 15, 'WP'), (17, 7, 'VOB'), (18, 7, 'WP'), (19, 31, 'ADV'), (20, 26, 'ATT'), (21, 22, 'SBV'), (22, 26, 'ATT'), (23, 26, 'ATT'), (24, 25, 'LAD'), (25, 23, 'COO'), (26, 19, 'POB'), (27, 31, 'ADV'), (28, 26, 'ATT'), (29, 23, 'COO'), (30, 28, 'COO'), (31, 32, 'ADV'), (32, 31, 'COO'), (33, 40, 'WP'), (34, 40, 'ATT'), (35, 38, 'ATT'), (36, 38, 'ATT'), (37, 38, 'ATT'), (38, 39, 'FOB'), (39, 40, 'ATT'), (40, 32, 'VOB')]]\n",
      "1993年 --(ATT)--> 6日\n",
      "12月 --(ATT)--> 6日\n",
      "6日 --(ADV)--> 作出\n",
      "， --(WP)--> 6日\n",
      "东大 --(ATT)--> 科技\n",
      "科技 --(SBV)--> 作出\n",
      "作出 --(HED)--> root\n",
      "“ --(WP)--> 号\n",
      "东集 --(ATT)--> 发展字\n",
      "发展字 --(ATT)--> 号\n",
      "[ --(ATT)--> 号\n",
      "93 --(ATT)--> 号\n",
      "] --(WP)--> 93\n",
      "第58 --(ATT)--> 号\n",
      "号 --(ATT)--> 决定\n",
      "” --(WP)--> 号\n",
      "决定 --(VOB)--> 作出\n",
      "， --(WP)--> 作出\n",
      "由 --(ADV)--> 联合\n",
      "东大 --(ATT)--> 研究所\n",
      "科技 --(SBV)--> 所属\n",
      "所属 --(ATT)--> 研究所\n",
      "基础 --(ATT)--> 研究所\n",
      "与 --(LAD)--> 建材\n",
      "建材 --(COO)--> 基础\n",
      "研究所 --(POB)--> 由\n",
      "与 --(ADV)--> 联合\n",
      "宜兴 --(ATT)--> 研究所\n",
      "京 --(COO)--> 基础\n",
      "宜 --(COO)--> 宜兴\n",
      "联合 --(ADV)--> 成立\n",
      "成立 --(COO)--> 联合\n",
      "“ --(WP)--> 公司\n",
      "江苏 --(ATT)--> 公司\n",
      "东大 --(ATT)--> 工程\n",
      "特种 --(ATT)--> 工程\n",
      "基础 --(ATT)--> 工程\n",
      "工程 --(FOB)--> 开发\n",
      "开发 --(ATT)--> 公司\n",
      "公司 --(VOB)--> 成立\n",
      "\n"
     ]
    }
   ],
   "source": [
    "from ltp import LTP\r\n",
    "\r\n",
    "ltp = LTP()\r\n",
    "\r\n",
    "segs, hiddens = ltp.seg([\"1993年12月6日，东大科技作出“东集发展字[93]第58号”决定 ，由东大科技所属基础与建材研究所与宜兴京宜联合成立“江苏东大特种基础工程开发公司\"])\r\n",
    "print(segs)\r\n",
    "seg = segs[0]\r\n",
    "deps = ltp.dep(hiddens)\r\n",
    "print(deps)\r\n",
    "dep = deps[0]\r\n",
    "seg.insert(0,'root')\r\n",
    "for tup in dep:  \r\n",
    "    print(\"%s --(%s)--> %s\" % (seg[tup[0]], tup[2], seg[tup[1]]))\r\n",
    "print()"
   ]
  },
  {
   "cell_type": "code",
   "execution_count": 73,
   "metadata": {},
   "outputs": [
    {
     "data": {
      "text/plain": "'Ni'"
     },
     "execution_count": 73,
     "metadata": {},
     "output_type": "execute_result"
    }
   ],
   "source": [
    "ner = ltp.ner(hiddens)\r\n",
    "ner\r\n",
    "tag, start, end = ner[0][0]\r\n",
    "tag"
   ]
  },
  {
   "cell_type": "code",
   "execution_count": 56,
   "metadata": {},
   "outputs": [
    {
     "data": {
      "text/plain": "[(1, 2, 'SBV'),\n (2, 0, 'HED'),\n (3, 4, 'ATT'),\n (4, 2, 'VOB'),\n (5, 7, 'ATT'),\n (6, 5, 'RAD'),\n (7, 2, 'CMP'),\n (8, 2, 'WP'),\n (9, 10, 'ATT'),\n (10, 11, 'SBV'),\n (11, 2, 'COO'),\n (12, 2, 'WP'),\n (13, 14, 'ATT'),\n (14, 15, 'SBV'),\n (15, 2, 'COO'),\n (16, 2, 'WP'),\n (17, 18, 'ADV'),\n (18, 2, 'COO'),\n (19, 21, 'ATT'),\n (20, 21, 'ATT'),\n (21, 22, 'ATT'),\n (22, 18, 'VOB')]"
     },
     "execution_count": 56,
     "metadata": {},
     "output_type": "execute_result"
    }
   ],
   "source": [
    "dep"
   ]
  },
  {
   "cell_type": "code",
   "execution_count": 1,
   "metadata": {},
   "outputs": [
    {
     "name": "stdout",
     "output_type": "stream",
     "text": [
      "[发行人/nnt, 专注/vi, 主营业务/n, 20/m, 余年/q, ，/w, 实施/v, 项目/n, 众多/a, ，/w, 行业/n, 经验丰富/nz, ，/w, 先后/d, 获得/v, 主要/b, 工程项目/nz, 荣誉/n]\n",
      "1\t发行人\t发行人\tn\tn\t_\t2\t主谓关系\t_\t_\n",
      "2\t专注\t专注\tv\tv\t_\t0\t核心关系\t_\t_\n",
      "3\t主营业务\t主营业务\tn\tn\t_\t5\t定中关系\t_\t_\n",
      "4\t20\t20\tm\tm\t_\t5\t定中关系\t_\t_\n",
      "5\t余年\t余年\tn\tn\t_\t2\t动宾关系\t_\t_\n",
      "6\t，\t，\twp\tw\t_\t2\t标点符号\t_\t_\n",
      "7\t实施\t实施\tv\tv\t_\t2\t并列关系\t_\t_\n",
      "8\t项目\t项目\tn\tn\t_\t9\t主谓关系\t_\t_\n",
      "9\t众多\t众多\tm\tm\t_\t7\t动宾关系\t_\t_\n",
      "10\t，\t，\twp\tw\t_\t9\t标点符号\t_\t_\n",
      "11\t行业\t行业\tn\tn\t_\t12\t定中关系\t_\t_\n",
      "12\t经验丰富\t经验丰富\tnz\tnz\t_\t9\t并列关系\t_\t_\n",
      "13\t，\t，\twp\tw\t_\t12\t标点符号\t_\t_\n",
      "14\t先后\t先后\td\td\t_\t15\t状中结构\t_\t_\n",
      "15\t获得\t获得\tv\tv\t_\t7\t并列关系\t_\t_\n",
      "16\t主要\t主要\tb\tb\t_\t17\t定中关系\t_\t_\n",
      "17\t工程项目\t工程项目\tnz\tnz\t_\t18\t定中关系\t_\t_\n",
      "18\t荣誉\t荣誉\tn\tn\t_\t15\t动宾关系\t_\t_\n",
      "\n",
      "发行人 --(主谓关系)--> 专注\n",
      "专注 --(核心关系)--> ##核心##\n",
      "主营业务 --(定中关系)--> 余年\n",
      "20 --(定中关系)--> 余年\n",
      "余年 --(动宾关系)--> 专注\n",
      "， --(标点符号)--> 专注\n",
      "实施 --(并列关系)--> 专注\n",
      "项目 --(主谓关系)--> 众多\n",
      "众多 --(动宾关系)--> 实施\n",
      "， --(标点符号)--> 众多\n",
      "行业 --(定中关系)--> 经验丰富\n",
      "经验丰富 --(并列关系)--> 众多\n",
      "， --(标点符号)--> 经验丰富\n",
      "先后 --(状中结构)--> 获得\n",
      "获得 --(并列关系)--> 实施\n",
      "主要 --(定中关系)--> 工程项目\n",
      "工程项目 --(定中关系)--> 荣誉\n",
      "荣誉 --(动宾关系)--> 获得\n",
      "\n",
      "鸿基节能承接的工程项目荣誉情况\n",
      "[鸿基/nz, 节能/vn, 承接/v, 的/ude1, 工程项目/nz, 荣誉/n, 情况/n]\n"
     ]
    }
   ],
   "source": [
    "from pyhanlp import HanLP\r\n",
    "sentence1 =\"发行人专注主营业务20余年，实施项目众多，行业经验丰富，先后获得主要工程项目荣誉\"\r\n",
    "sentence2 =  \"鸿基节能承接的工程项目荣誉获得情况。\"\r\n",
    "dep = HanLP.parseDependency(sentence1)\r\n",
    "print(HanLP.segment(sentence1))\r\n",
    "print(dep)\r\n",
    "\r\n",
    "for word in dep.iterator():  # 通过dir()可以查看sentence的方法\r\n",
    "    print(\"%s --(%s)--> %s\" % (word.LEMMA, word.DEPREL, word.HEAD.LEMMA))\r\n",
    "print()\r\n",
    "\r\n",
    "print('鸿基节能承接的工程项目荣誉情况')\r\n",
    "print(HanLP.segment('鸿基节能承接的工程项目荣誉情况'))\r\n"
   ]
  }
 ],
 "metadata": {
  "kernelspec": {
   "display_name": "Python 3.8.8 64-bit ('py3.8': conda)",
   "metadata": {
    "interpreter": {
     "hash": "afa9f6b46c896d3589fbb5d6325c2864ab1d27d73d391f5c06f3861b8e63e458"
    }
   },
   "name": "python3"
  },
  "language_info": {
   "codemirror_mode": {
    "name": "ipython",
    "version": 3
   },
   "file_extension": ".py",
   "mimetype": "text/x-python",
   "name": "python",
   "nbconvert_exporter": "python",
   "pygments_lexer": "ipython3",
   "version": "3.8.8"
  },
  "orig_nbformat": 2
 },
 "nbformat": 4,
 "nbformat_minor": 2
}